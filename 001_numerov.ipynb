{
 "cells": [
  {
   "cell_type": "markdown",
   "metadata": {},
   "source": [
    "# Deriving Numerov's Method\n",
    "## Background\n",
    "- The Numerov method can be used for functions of the form\n",
    "$$\\frac{d^2y}{dx^2} = g(x)y(x) + s(x)$$\n"
   ]
  },
  {
   "cell_type": "markdown",
   "metadata": {},
   "source": [
    "\n",
    "## steps\n",
    "- taylor expand the general differential equation\n",
    "- apply to discrete space\n",
    "- use forward and backward step to cancel odd terms\n",
    "- do some mathematical magic to get it in \"nice\" terms\n"
   ]
  },
  {
   "cell_type": "markdown",
   "metadata": {},
   "source": [
    "$$y'' = g(x)y(x) + s(x)$$"
   ]
  },
  {
   "cell_type": "markdown",
   "metadata": {},
   "source": [
    "Begin by using the formula for a Taylor expansion.\n",
    "$$y(x) = y(x_{0}) + (x - x_{0})y'(x_{0}) + \\frac{(x - x_{0})^2}{2!}y''(x_{0}) + \\frac{(x - x_{0})^3}{3!}y'''(x_{0}) +\\frac{(x - x_{0})^4}{4!}y''''(x_{0}) + \\frac{(x - x_{0})^5}{5!}y'''''(x_{0}) + O(h^6)$$"
   ]
  },
  {
   "cell_type": "markdown",
   "metadata": {},
   "source": [
    "Set $x = x_{0} + h$ and $h = x - x_{0}$ leaving us with:\n",
    "$$y(x_{0} + h) = y(x_{0}) + hy'(x_{0}) + \\frac{h^2}{2!}y''(x_{0}) + \\frac{h^3}{3!}y'''(x_{0}) +\\frac{h^4}{4!}y''''(x_{0}) + \\frac{h^5}{5!}y'''''(x_{0}) + O(h^6)$$"
   ]
  },
  {
   "cell_type": "markdown",
   "metadata": {},
   "source": [
    "We now discretize the space using the following rule $h = x_{n+1} - x_{n}$. If we plug in $n = 0$ we get \n",
    "$$ h = x_{1} - x_{0}$$\n",
    "and consequently\n",
    "$$x_{1} = x_{0} + h$$\n",
    "this means we can rewrite\n",
    "$$y(x_{0} + h) = y(x_{0}) + hy'(x_{0}) + \\frac{h^2}{2!}y''(x_{0}) + \\frac{h^3}{3!}y'''(x_{0}) +\\frac{h^4}{4!}y''''(x_{0}) + \\frac{h^5}{5!}y'''''(x_{0}) + O(h^6)$$\n",
    "as\n",
    "$$y(x_{1}) = y(x_{0}) + hy'(x_{0}) + \\frac{h^2}{2!}y''(x_{0}) + \\frac{h^3}{3!}y'''(x_{0}) +\\frac{h^4}{4!}y''''(x_{0}) + \\frac{h^5}{5!}y'''''(x_{0}) + O(h^6)$$\n",
    "Where we adopt the shorthand that $y(x_{n}) = y_{n}$\n",
    "$$y_{1} = y_{0} + hy'(x_{0}) + \\frac{h^2}{2!}y''(x_{0}) + \\frac{h^3}{3!}y'''(x_{0}) +\\frac{h^4}{4!}y''''(x_{0}) + \\frac{h^5}{5!}y'''''(x_{0}) + O(h^6)$$\n",
    "From this we make the observation that \n",
    "$$y_{n + 1} = y_{n} + hy'(x_{n}) + \\frac{h^2}{2!}y''(x_{n}) + \\frac{h^3}{3!}y'''(x_{n}) +\\frac{h^4}{4!}y''''(x_{n}) + \\frac{h^5}{5!}y'''''(x_{n}) + O(h^6)$$\n",
    "Similarly, if we want to take a step backwards we can replace every $h$ with $-h$\n",
    "$$y_{n - 1} = y_{n} - hy'(x_{n}) + \\frac{h^2}{2!}y''(x_{n}) - \\frac{h^3}{3!}y'''(x_{n}) +\\frac{h^4}{4!}y''''(x_{n}) - \\frac{h^5}{5!}y'''''(x_{n}) + O(h^6)$$\n",
    "The odd terms are the only ones that change sign. Next, we can add the two expressions together.\n",
    "$$y_{n+1} + y_{n-1} = 2y_{n} + h^2y_{n}'' + \\frac{h^4}{12}y_{n}'''' + O(h^6)$$\n",
    "Rearranging\n",
    "$$y_{n+1} -2y_{n} + y_{n-1} = + h^2y_{n}'' + \\frac{h^4}{12}y_{n}'''' + O(h^6)$$\n",
    "\n",
    "\n"
   ]
  },
  {
   "cell_type": "markdown",
   "metadata": {},
   "source": [
    "From the statement of the problem\n",
    "$$y''(x) = -g(x)y(x) + s(x)$$\n",
    "$$y_{n}'' = -g_{n}y_{n} + s_{n}$$\n",
    "So in continuous variables we have..\n",
    "$$y''''(x) =\\frac{d^2}{dx^2}(-g(x)y(x) + s(x))$$\n",
    "and in discrete variables we have...\n",
    "\n",
    "$$y_{n}'''' = \\frac{d^2}{dx^2}(g_{n}y_{n} + s_{n})$$\n",
    "\n",
    "Remember that the second derivative can be approximated as a finite difference scheme:\n",
    "$$f''(x)\\approx {\\frac {{\\frac {f(x+h)-f(x)}{h}}-{\\frac {f(x)-f(x-h)}{h}}}{h}}={\\frac {f(x+h)-2f(x)+f(x-h)}{h^{2}}}.$$\n",
    "\n",
    "let\n",
    "$$f(x+h) = g(x+h)y(x+h) + s(x+h)$$\n",
    "$$f(x) = g(x)y(x) + s(x)$$\n",
    "$$f(x-h) = g(x-h)y(x-h) + s(x-h)$$\n",
    "\n",
    "Now plug these terms into the finite difference scheme:\n",
    "$$y''''(x) = f''(x) = \\frac{g(x+h)y(x+h) + s(x+h) + 2g(x)y(x) - 2s(x) +g(x-h)y(x-h) + s(x-h)}{h^2}$$\n",
    "Converting to discrete space:\n",
    "$$y_{n}'''' = \\frac{g_{n+1}y_{n+1} + s_{n+1} + 2g_{n}y_{n} - 2s_{n} +g_{n-1}y_{n-1} + s_{n-1}}{h^2}$$\n",
    "\n",
    "\n"
   ]
  },
  {
   "cell_type": "markdown",
   "metadata": {},
   "source": [
    "Now that we have an expression for $y_{n}''''$ we can substitute this back into\n",
    "$$y_{n+1} -2y_{n} + y_{n-1} = h^2y_{n}'' + \\frac{h^4}{12}y_{n}'''' + O(h^6)$$\n",
    "leaving the following equation:\n",
    "$$y_{n+1} -2y_{n} + y_{n-1} = h^2y_{n}'' + \\frac{h^4}{12}(\\frac{-g_{n+1}y_{n+1} + s_{n+1} + 2g_{n}y_{n} - 2s_{n} + g_{n-1}y_{n-1} + s_{n-1}}{h^2}) + O(h^6)$$\n",
    "Cancelling $h^2$\n",
    "$$y_{n+1} -2y_{n} + y_{n-1} = h^2y_{n}'' + \\frac{h^2}{12}(g_{n+1}y_{n+1} + s_{n+1} + 2g_{n}y_{n} - 2s_{n} + g_{n-1}y_{n-1} + s_{n-1}) + O(h^6)$$\n",
    "This is a very unwieldy expression so let's try to see if we can pull together some common terms with subscript $n+1$, $n$ and $n-1$. The right side has the same form as the finite difference formula, we can probably match these terms up with the $y_{n+1} -2y_{n} + y_{n-1}$\n",
    "$$y_{n+1} -2y_{n} + y_{n-1} = h^2y_{n}'' + \\frac{h^2}{12}(g_{n+1}y_{n+1} + s_{n+1} -2g_{n}y_{n} - 2s_{n} + g_{n-1}y_{n-1} + s_{n-1}) + O(h^6)$$\n",
    "$$[y_{n+1} - \\frac{h^2}{12}(g_{n+1}y_{n+1}) - \\frac{h^2}{12}(s_{n+1})] \n",
    " + 2[-y_{n} +\\frac{h^2}{12}(g_{n}y_{n}) + \\frac{h^2}{12}(s_{n})] + \n",
    "[y_{n-1} - \\frac{h^2}{12}(g_{n-1}y_{n-1}) - \\frac{h^2}{12}(s_{n-1})]\n",
    "= h^2y_{n}'' + O(h^6)$$\n"
   ]
  },
  {
   "cell_type": "markdown",
   "metadata": {},
   "source": [
    "The first bracketed term\n",
    "$$[y_{n+1} -\\frac{h^2}{12}g_{n+1}y_{n+1} - \\frac{h^2}{12}s_{n+1}]$$\n",
    "becomes \n",
    "$$[y_{n+1}(1 - \\frac{h^2}{12}g_{n+1}) - \\frac{h^2}{12}s_{n+1}]$$\n",
    "The second bracketed term \n",
    "$$2[-y_{n} +\\frac{h^2}{12}g_{n}y_{n} + \\frac{h^2}{12}s_{n}]$$\n",
    "becomes\n",
    "$$-2[y_{n}(1 - \\frac{h^2}{12}g_{n}) - \\frac{h^2}{12}s_{n}] $$\n",
    "and finally\n",
    "$$[y_{n-1} - \\frac{h^2}{12}(g_{n-1}y_{n-1}) - \\frac{h^2}{12}(s_{n-1})]$$\n",
    "becomes\n",
    "$$[y_{n-1}(1 - \\frac{h^2}{12}g_{n-1}) - \\frac{h^2}{12}s_{n-1}]$$\n",
    "\n"
   ]
  },
  {
   "cell_type": "markdown",
   "metadata": {},
   "source": [
    "Each of these similar terms can be absorbed into a new variable $w_{n}$\n",
    "$$w_{n} = y_{n}(1 - \\frac{h^2}{12}g_{n}) - \\frac{h^2}{12}s_{n}$$\n",
    "simplifying our unwieldy expression to\n",
    "$$w_{n+1} \n",
    " - 2w_{n} + w_{n-1} = h^2y_{n}'' + O(h^6)$$\n",
    " and substituting $y_{n}'' =g_{n}y_{n} + s_{n}$.  We arrive at our final answer:\n",
    "\n",
    "$$w_{n+1} \n",
    " - 2w_{n} + w_{n-1} = h^2(g_{n}y_{n} + s_{n}) + O(h^6)$$\n",
    " \n"
   ]
  },
  {
   "cell_type": "markdown",
   "metadata": {},
   "source": [
    " We need to remember that\n",
    " $$y_{n} = \\frac{w_{n} + \\frac{h^2}{12}s_{n}}{1 - \\frac{h^2}{12}g_{n}}$$\n"
   ]
  },
  {
   "cell_type": "markdown",
   "metadata": {},
   "source": [
    "## Practical Considerations\n",
    "To implement the method there are a few practical considerations, for example:\n",
    "- How do we start the calculation method without knowing the value of the first step?"
   ]
  },
  {
   "cell_type": "markdown",
   "metadata": {},
   "source": [
    "We take two small values and set them equal to $y_{0}$ and $y_{1}$, let $y_{0} = 0$ and $y_{1} = 0.001$ \n",
    "$$w_{0} = y_{0}(1 - \\frac{h^2}{12}g_{0}) - \\frac{h^2}{12}s_{0}$$\n",
    "and\n",
    "$$w_{1} = y_{1}(1 - \\frac{h^2}{12}g_{1}) - \\frac{h^2}{12}s_{1}$$\n",
    "So now we have taken the first two steps and can use this formula:\n",
    "$$w_{n+1} = 2w_{n} - w_{n-1} + h^2(g_{n}y_{n} + s_{n})$$\n",
    "for the case\n",
    "$$w_{2} = 2w_{1} - w_{0} + h^2(g_{1}y_{1} + s_{1})$$\n",
    "\n",
    " \n"
   ]
  },
  {
   "cell_type": "markdown",
   "metadata": {},
   "source": [
    "In short, you need to give the Numerov method the first and second step, the first step can be zero and the second step should be a small positive number."
   ]
  },
  {
   "cell_type": "markdown",
   "metadata": {},
   "source": [
    "\n",
    "## simplified numerov\n",
    "Numerov's Method can be simplified for differential equations where $s(x) = 0$\n",
    "$$y'' = g(x)y(x)$$\n",
    "The $w$ term simply loses the $s$ terms."
   ]
  },
  {
   "cell_type": "markdown",
   "metadata": {},
   "source": [
    "Note: this routine was taken directly from Kristjan Haule's LAPW code"
   ]
  },
  {
   "cell_type": "code",
   "execution_count": 15,
   "metadata": {},
   "outputs": [],
   "source": [
    "import numpy as np\n",
    "def Numerov(F, dx, f0=0.0, f1=1e-3):\n",
    "    Nmax = len(F)\n",
    "    dx = float(dx)\n",
    "    Solution = np.zeros(Nmax, dtype=float)\n",
    "    Solution[0] = f0\n",
    "    Solution[1] = f1\n",
    "    h2 = dx*dx;\n",
    "    h12 = h2/12;\n",
    "      \n",
    "    w0 = (1-h12*F[0])*Solution[0];\n",
    "    Fx = F[1];\n",
    "    w1 = (1-h12*Fx)*Solution[1];\n",
    "    Phi = Solution[1];\n",
    "      \n",
    "    w2 = 0.0\n",
    "    for i in range(2, Nmax):\n",
    "        w2 = 2*w1 - w0 + h2*Phi*Fx;\n",
    "        w0 = w1;\n",
    "        w1 = w2;\n",
    "        Fx = F[i];\n",
    "        Phi = w2/(1-h12*Fx);\n",
    "        Solution[i] = Phi;\n",
    "    return Solution\n",
    "\n"
   ]
  },
  {
   "cell_type": "markdown",
   "metadata": {},
   "source": [
    "## Generalized Numerov"
   ]
  },
  {
   "cell_type": "markdown",
   "metadata": {},
   "source": [
    "Note: this routine was taken directly from Kristjan Haule's LAPW code"
   ]
  },
  {
   "cell_type": "code",
   "execution_count": 16,
   "metadata": {},
   "outputs": [],
   "source": [
    "\n",
    "def NumerovGen(F, U, dx, f0=0.0, f1=1e-3):\n",
    "    Nmax = len(F)\n",
    "    dx = float(dx)\n",
    "    Solution = np.zeros(Nmax, dtype=float)\n",
    "    Solution[0] = f0\n",
    "    Solution[1] = f1\n",
    "\n",
    "    h2 = dx * dx\n",
    "    h12 = h2 / 12\n",
    "\n",
    "    w0 = Solution[0] * (1 - h12 * F[0]) - h12 * U[0]\n",
    "    w1 = Solution[1] * (1 - h12 * F[1]) - h12 * U[1]\n",
    "    Phi = Solution[1]\n",
    "\n",
    "    for i in range(2, Nmax):\n",
    "        Fx = F[i]\n",
    "        Ux = U[i]\n",
    "        w2 = 2 * w1 - w0 + h2 * (Phi * Fx + Ux)\n",
    "        w0 = w1\n",
    "        w1 = w2\n",
    "        Phi = (w2 + h12 * Ux) / (1 - h12 * Fx)\n",
    "        Solution[i] = Phi\n",
    "\n",
    "    return Solution\n"
   ]
  },
  {
   "cell_type": "markdown",
   "metadata": {},
   "source": [
    "Numerov's method presumes that the differential equation is of the form"
   ]
  },
  {
   "cell_type": "markdown",
   "metadata": {},
   "source": [
    "$$\\frac{d^2y}{dx^2} = g(x)y(x)$$\n"
   ]
  },
  {
   "cell_type": "markdown",
   "metadata": {},
   "source": [
    "Which is not too far off from the infinite square well hamiltonian, with the function $g(x)$ actually being a constant $-\\frac{2 m E}{h^2}$."
   ]
  },
  {
   "cell_type": "markdown",
   "metadata": {},
   "source": [
    "$$\\frac{d^2}{d x^2} \\psi(x)=-\\frac{2 m E}{h^2} \\psi(x)$$"
   ]
  },
  {
   "cell_type": "markdown",
   "metadata": {},
   "source": [
    "Feel free to mess with the \"constant\" to change the result. Note that this is not a valid wavefunction because it is not normalized. "
   ]
  },
  {
   "cell_type": "code",
   "execution_count": 17,
   "metadata": {},
   "outputs": [
    {
     "data": {
      "image/png": "[encoded data removed]",
      "text/plain": [
       "<Figure size 640x480 with 1 Axes>"
      ]
     },
     "metadata": {},
     "output_type": "display_data"
    }
   ],
   "source": [
    "import matplotlib.pyplot as plt\n",
    "constant = -10.0\n",
    "x = np.linspace(0,1,100)\n",
    "isw_rhs = constant*np.ones(len(x))\n",
    "\n",
    "sol = Numerov(isw_rhs, x[1]-x[0], 0.00, 0.0001)\n",
    "\n",
    "plt.plot(x, sol)\n",
    "plt.show()"
   ]
  }
 ],
 "metadata": {
  "kernelspec": {
   "display_name": ".venv",
   "language": "python",
   "name": "python3"
  },
  "language_info": {
   "codemirror_mode": {
    "name": "ipython",
    "version": 3
   },
   "file_extension": ".py",
   "mimetype": "text/x-python",
   "name": "python",
   "nbconvert_exporter": "python",
   "pygments_lexer": "ipython3",
   "version": "3.12.4"
  }
 },
 "nbformat": 4,
 "nbformat_minor": 2
}
